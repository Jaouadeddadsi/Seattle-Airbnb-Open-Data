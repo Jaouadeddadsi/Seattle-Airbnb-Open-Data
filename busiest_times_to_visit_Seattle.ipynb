{
 "cells": [
  {
   "cell_type": "markdown",
   "metadata": {},
   "source": [
    "<h2 id='part2'>What are the busiest times of the year to visit Seattle? By how much do prices spike ?</h2>"
   ]
  },
  {
   "cell_type": "markdown",
   "metadata": {},
   "source": [
    "In order to answer our question we will analyse the variables listing_id and date in the reviews dataset. and the variables listing id,  data and price in the calender dataset."
   ]
  },
  {
   "cell_type": "code",
   "execution_count": 1,
   "metadata": {},
   "outputs": [],
   "source": [
    "# Import necessary packages\n",
    "import numpy as np\n",
    "import pandas as pd\n",
    "import matplotlib.pyplot as plt\n",
    "import seaborn as sns\n",
    "from time import time\n",
    "\n",
    "# Pretty display for notebooks\n",
    "%matplotlib inline\n",
    "% config InlineBachend.figure_format = 'retina'\n",
    "\n",
    "# Enable pep8 code style test\n",
    "%load_ext pycodestyle_magic\n"
   ]
  },
  {
   "cell_type": "markdown",
   "metadata": {},
   "source": [
    "## Exploring the Data"
   ]
  },
  {
   "cell_type": "code",
   "execution_count": 2,
   "metadata": {},
   "outputs": [],
   "source": [
    "# Load the nessesary data.\n",
    "reviews = pd.read_csv('reviews.csv', parse_dates=['date'])[['listing_id', 'date']]\n",
    "calendar = pd.read_csv('calendar.csv', parse_dates=['date'])[[\n",
    "    'listing_id', 'date', 'price']]"
   ]
  },
  {
   "cell_type": "code",
   "execution_count": 3,
   "metadata": {},
   "outputs": [
    {
     "data": {
      "text/html": [
       "<div>\n",
       "<style scoped>\n",
       "    .dataframe tbody tr th:only-of-type {\n",
       "        vertical-align: middle;\n",
       "    }\n",
       "\n",
       "    .dataframe tbody tr th {\n",
       "        vertical-align: top;\n",
       "    }\n",
       "\n",
       "    .dataframe thead th {\n",
       "        text-align: right;\n",
       "    }\n",
       "</style>\n",
       "<table border=\"1\" class=\"dataframe\">\n",
       "  <thead>\n",
       "    <tr style=\"text-align: right;\">\n",
       "      <th></th>\n",
       "      <th>listing_id</th>\n",
       "      <th>date</th>\n",
       "    </tr>\n",
       "  </thead>\n",
       "  <tbody>\n",
       "    <tr>\n",
       "      <th>0</th>\n",
       "      <td>7202016</td>\n",
       "      <td>2015-07-19</td>\n",
       "    </tr>\n",
       "    <tr>\n",
       "      <th>1</th>\n",
       "      <td>7202016</td>\n",
       "      <td>2015-07-20</td>\n",
       "    </tr>\n",
       "    <tr>\n",
       "      <th>2</th>\n",
       "      <td>7202016</td>\n",
       "      <td>2015-07-26</td>\n",
       "    </tr>\n",
       "    <tr>\n",
       "      <th>3</th>\n",
       "      <td>7202016</td>\n",
       "      <td>2015-08-02</td>\n",
       "    </tr>\n",
       "    <tr>\n",
       "      <th>4</th>\n",
       "      <td>7202016</td>\n",
       "      <td>2015-08-10</td>\n",
       "    </tr>\n",
       "  </tbody>\n",
       "</table>\n",
       "</div>"
      ],
      "text/plain": [
       "   listing_id       date\n",
       "0     7202016 2015-07-19\n",
       "1     7202016 2015-07-20\n",
       "2     7202016 2015-07-26\n",
       "3     7202016 2015-08-02\n",
       "4     7202016 2015-08-10"
      ]
     },
     "execution_count": 3,
     "metadata": {},
     "output_type": "execute_result"
    }
   ],
   "source": [
    "# Print the five ferst rows\n",
    "reviews.head()"
   ]
  },
  {
   "cell_type": "code",
   "execution_count": 4,
   "metadata": {},
   "outputs": [
    {
     "data": {
      "text/html": [
       "<div>\n",
       "<style scoped>\n",
       "    .dataframe tbody tr th:only-of-type {\n",
       "        vertical-align: middle;\n",
       "    }\n",
       "\n",
       "    .dataframe tbody tr th {\n",
       "        vertical-align: top;\n",
       "    }\n",
       "\n",
       "    .dataframe thead th {\n",
       "        text-align: right;\n",
       "    }\n",
       "</style>\n",
       "<table border=\"1\" class=\"dataframe\">\n",
       "  <thead>\n",
       "    <tr style=\"text-align: right;\">\n",
       "      <th></th>\n",
       "      <th>listing_id</th>\n",
       "      <th>date</th>\n",
       "      <th>price</th>\n",
       "    </tr>\n",
       "  </thead>\n",
       "  <tbody>\n",
       "    <tr>\n",
       "      <th>0</th>\n",
       "      <td>241032</td>\n",
       "      <td>2016-01-04</td>\n",
       "      <td>$85.00</td>\n",
       "    </tr>\n",
       "    <tr>\n",
       "      <th>1</th>\n",
       "      <td>241032</td>\n",
       "      <td>2016-01-05</td>\n",
       "      <td>$85.00</td>\n",
       "    </tr>\n",
       "    <tr>\n",
       "      <th>2</th>\n",
       "      <td>241032</td>\n",
       "      <td>2016-01-06</td>\n",
       "      <td>NaN</td>\n",
       "    </tr>\n",
       "    <tr>\n",
       "      <th>3</th>\n",
       "      <td>241032</td>\n",
       "      <td>2016-01-07</td>\n",
       "      <td>NaN</td>\n",
       "    </tr>\n",
       "    <tr>\n",
       "      <th>4</th>\n",
       "      <td>241032</td>\n",
       "      <td>2016-01-08</td>\n",
       "      <td>NaN</td>\n",
       "    </tr>\n",
       "  </tbody>\n",
       "</table>\n",
       "</div>"
      ],
      "text/plain": [
       "   listing_id       date   price\n",
       "0      241032 2016-01-04  $85.00\n",
       "1      241032 2016-01-05  $85.00\n",
       "2      241032 2016-01-06     NaN\n",
       "3      241032 2016-01-07     NaN\n",
       "4      241032 2016-01-08     NaN"
      ]
     },
     "execution_count": 4,
     "metadata": {},
     "output_type": "execute_result"
    }
   ],
   "source": [
    "calendar.head()"
   ]
  },
  {
   "cell_type": "code",
   "execution_count": 17,
   "metadata": {},
   "outputs": [
    {
     "name": "stdout",
     "output_type": "stream",
     "text": [
      "df_1 shape :  (84849, 2)\n",
      "df_2 shape :  (1393570, 3)\n"
     ]
    }
   ],
   "source": [
    "# Data shape\n",
    "print(\"df_1 shape : \", df_1.shape)\n",
    "print(\"df_2 shape : \", df_2.shape)"
   ]
  },
  {
   "cell_type": "markdown",
   "metadata": {},
   "source": [
    "## The date range in each dataset "
   ]
  },
  {
   "cell_type": "code",
   "execution_count": 33,
   "metadata": {},
   "outputs": [
    {
     "data": {
      "text/html": [
       "<div>\n",
       "<style scoped>\n",
       "    .dataframe tbody tr th:only-of-type {\n",
       "        vertical-align: middle;\n",
       "    }\n",
       "\n",
       "    .dataframe tbody tr th {\n",
       "        vertical-align: top;\n",
       "    }\n",
       "\n",
       "    .dataframe thead th {\n",
       "        text-align: right;\n",
       "    }\n",
       "</style>\n",
       "<table border=\"1\" class=\"dataframe\">\n",
       "  <thead>\n",
       "    <tr style=\"text-align: right;\">\n",
       "      <th></th>\n",
       "      <th>rev_num</th>\n",
       "    </tr>\n",
       "  </thead>\n",
       "  <tbody>\n",
       "    <tr>\n",
       "      <th>2009-12-31</th>\n",
       "      <td>17</td>\n",
       "    </tr>\n",
       "    <tr>\n",
       "      <th>2010-12-31</th>\n",
       "      <td>254</td>\n",
       "    </tr>\n",
       "    <tr>\n",
       "      <th>2011-12-31</th>\n",
       "      <td>1169</td>\n",
       "    </tr>\n",
       "    <tr>\n",
       "      <th>2012-12-31</th>\n",
       "      <td>3251</td>\n",
       "    </tr>\n",
       "    <tr>\n",
       "      <th>2013-12-31</th>\n",
       "      <td>7077</td>\n",
       "    </tr>\n",
       "    <tr>\n",
       "      <th>2014-12-31</th>\n",
       "      <td>20365</td>\n",
       "    </tr>\n",
       "    <tr>\n",
       "      <th>2015-12-31</th>\n",
       "      <td>52493</td>\n",
       "    </tr>\n",
       "    <tr>\n",
       "      <th>2016-12-31</th>\n",
       "      <td>223</td>\n",
       "    </tr>\n",
       "  </tbody>\n",
       "</table>\n",
       "</div>"
      ],
      "text/plain": [
       "            rev_num\n",
       "2009-12-31       17\n",
       "2010-12-31      254\n",
       "2011-12-31     1169\n",
       "2012-12-31     3251\n",
       "2013-12-31     7077\n",
       "2014-12-31    20365\n",
       "2015-12-31    52493\n",
       "2016-12-31      223"
      ]
     },
     "execution_count": 33,
     "metadata": {},
     "output_type": "execute_result"
    }
   ],
   "source": [
    "# Get the date range in df_1\n",
    "res_freq = pd.DataFrame(df_1['date'].value_counts().values,\n",
    "                        index=df_1['date'].value_counts().index,\n",
    "                        columns=['rev_num'])\n",
    "res_freq_year = res_freq.resample('A').sum()\n",
    "# Print values\n",
    "res_freq_year"
   ]
  },
  {
   "cell_type": "code",
   "execution_count": 39,
   "metadata": {},
   "outputs": [
    {
     "data": {
      "text/html": [
       "<div>\n",
       "<style scoped>\n",
       "    .dataframe tbody tr th:only-of-type {\n",
       "        vertical-align: middle;\n",
       "    }\n",
       "\n",
       "    .dataframe tbody tr th {\n",
       "        vertical-align: top;\n",
       "    }\n",
       "\n",
       "    .dataframe thead th {\n",
       "        text-align: right;\n",
       "    }\n",
       "</style>\n",
       "<table border=\"1\" class=\"dataframe\">\n",
       "  <thead>\n",
       "    <tr style=\"text-align: right;\">\n",
       "      <th></th>\n",
       "      <th>price_num</th>\n",
       "    </tr>\n",
       "  </thead>\n",
       "  <tbody>\n",
       "    <tr>\n",
       "      <th>2016-12-31</th>\n",
       "      <td>1385934</td>\n",
       "    </tr>\n",
       "    <tr>\n",
       "      <th>2017-12-31</th>\n",
       "      <td>7636</td>\n",
       "    </tr>\n",
       "  </tbody>\n",
       "</table>\n",
       "</div>"
      ],
      "text/plain": [
       "            price_num\n",
       "2016-12-31    1385934\n",
       "2017-12-31       7636"
      ]
     },
     "execution_count": 39,
     "metadata": {},
     "output_type": "execute_result"
    }
   ],
   "source": [
    "# Get the date range in df_1\n",
    "cal_freq = pd.DataFrame(df_2['date'].value_counts().values,\n",
    "                        index=df_2['date'].value_counts().index,\n",
    "                        columns=['price_num'])\n",
    "cal_freq_year = cal_freq.resample('A').sum()\n",
    "# Print values\n",
    "cal_freq_year"
   ]
  },
  {
   "cell_type": "markdown",
   "metadata": {},
   "source": [
    "From the analyse done above we may notice :\n",
    "    - The reviews dataset contains information between 2009 and 2016. \n",
    "    - The calendar dataset contains information between 2016 and 2017.\n",
    "    - The year 2015 contains the highest number of information recorded in the reviews dataset.\n",
    "    - The year 2016 contains the highest number of information recorded in the calendar dataset.\n",
    "\n",
    "Therfore we will use the year 2015 to analyse the busiest times of the year to visit Seattle. And the year 2016 to analyse the price variation during the year.    "
   ]
  },
  {
   "cell_type": "markdown",
   "metadata": {},
   "source": [
    "## What are the busiest times of the year to visit Seattle ?"
   ]
  },
  {
   "cell_type": "markdown",
   "metadata": {},
   "source": [
    "## Preparing the Data"
   ]
  },
  {
   "cell_type": "code",
   "execution_count": 44,
   "metadata": {},
   "outputs": [
    {
     "data": {
      "text/html": [
       "<div>\n",
       "<style scoped>\n",
       "    .dataframe tbody tr th:only-of-type {\n",
       "        vertical-align: middle;\n",
       "    }\n",
       "\n",
       "    .dataframe tbody tr th {\n",
       "        vertical-align: top;\n",
       "    }\n",
       "\n",
       "    .dataframe thead th {\n",
       "        text-align: right;\n",
       "    }\n",
       "</style>\n",
       "<table border=\"1\" class=\"dataframe\">\n",
       "  <thead>\n",
       "    <tr style=\"text-align: right;\">\n",
       "      <th></th>\n",
       "      <th>rev_num</th>\n",
       "      <th>% rev</th>\n",
       "    </tr>\n",
       "  </thead>\n",
       "  <tbody>\n",
       "    <tr>\n",
       "      <th>2015-01-31</th>\n",
       "      <td>1717</td>\n",
       "      <td>3.270912</td>\n",
       "    </tr>\n",
       "    <tr>\n",
       "      <th>2015-02-28</th>\n",
       "      <td>1662</td>\n",
       "      <td>3.166136</td>\n",
       "    </tr>\n",
       "    <tr>\n",
       "      <th>2015-03-31</th>\n",
       "      <td>2682</td>\n",
       "      <td>5.109253</td>\n",
       "    </tr>\n",
       "    <tr>\n",
       "      <th>2015-04-30</th>\n",
       "      <td>2700</td>\n",
       "      <td>5.143543</td>\n",
       "    </tr>\n",
       "    <tr>\n",
       "      <th>2015-05-31</th>\n",
       "      <td>3770</td>\n",
       "      <td>7.181910</td>\n",
       "    </tr>\n",
       "    <tr>\n",
       "      <th>2015-06-30</th>\n",
       "      <td>5549</td>\n",
       "      <td>10.570933</td>\n",
       "    </tr>\n",
       "    <tr>\n",
       "      <th>2015-07-31</th>\n",
       "      <td>6580</td>\n",
       "      <td>12.535005</td>\n",
       "    </tr>\n",
       "    <tr>\n",
       "      <th>2015-08-31</th>\n",
       "      <td>7963</td>\n",
       "      <td>15.169642</td>\n",
       "    </tr>\n",
       "    <tr>\n",
       "      <th>2015-09-30</th>\n",
       "      <td>6985</td>\n",
       "      <td>13.306536</td>\n",
       "    </tr>\n",
       "    <tr>\n",
       "      <th>2015-10-31</th>\n",
       "      <td>5536</td>\n",
       "      <td>10.546168</td>\n",
       "    </tr>\n",
       "    <tr>\n",
       "      <th>2015-11-30</th>\n",
       "      <td>3998</td>\n",
       "      <td>7.616254</td>\n",
       "    </tr>\n",
       "    <tr>\n",
       "      <th>2015-12-31</th>\n",
       "      <td>3351</td>\n",
       "      <td>6.383708</td>\n",
       "    </tr>\n",
       "  </tbody>\n",
       "</table>\n",
       "</div>"
      ],
      "text/plain": [
       "            rev_num      % rev\n",
       "2015-01-31     1717   3.270912\n",
       "2015-02-28     1662   3.166136\n",
       "2015-03-31     2682   5.109253\n",
       "2015-04-30     2700   5.143543\n",
       "2015-05-31     3770   7.181910\n",
       "2015-06-30     5549  10.570933\n",
       "2015-07-31     6580  12.535005\n",
       "2015-08-31     7963  15.169642\n",
       "2015-09-30     6985  13.306536\n",
       "2015-10-31     5536  10.546168\n",
       "2015-11-30     3998   7.616254\n",
       "2015-12-31     3351   6.383708"
      ]
     },
     "execution_count": 44,
     "metadata": {},
     "output_type": "execute_result"
    }
   ],
   "source": [
    "# Selct the year 2015\n",
    "res_freq_2015 = res_freq.loc['2015']\n",
    "# The reservation sum per month\n",
    "res_2015_month = res_freq_2015.resample('M').sum()\n",
    "res_2015_month['% rev'] = res_2015_month['rev_num']*100/res_2015_month[\n",
    "    'rev_num'].sum()\n",
    "# Print values\n",
    "res_2015_month"
   ]
  },
  {
   "cell_type": "markdown",
   "metadata": {},
   "source": [
    "## Plot the Data"
   ]
  },
  {
   "cell_type": "code",
   "execution_count": 47,
   "metadata": {},
   "outputs": [
    {
     "data": {
      "image/png": "[encoded data removed]",
      "text/plain": [
       "<Figure size 1080x720 with 1 Axes>"
      ]
     },
     "metadata": {},
     "output_type": "display_data"
    }
   ],
   "source": [
    "# Bar plot\n",
    "fig1 = plt.figure(figsize=(15, 10))\n",
    "ax = fig1.add_subplot(1, 1, 1, aspect='auto')\n",
    "sns.barplot(x=res_2015_month.index.month_name(), y=res_2015_month['% rev'])\n",
    "\n",
    "# Set axis label properties\n",
    "ax.set_xlabel('Month', weight='normal', size=20)\n",
    "ax.set_ylabel('Reviews percentage %', weight='normal', size=20)\n",
    "plt.title('Reviews percentage per month in 2015', fontsize=20)\n",
    "\n",
    "# Set tick label properties\n",
    "ax.tick_params('x', labelsize=15, rotation=35)\n",
    "ax.tick_params('y', labelsize=15)\n",
    "plt.show()"
   ]
  },
  {
   "cell_type": "markdown",
   "metadata": {},
   "source": [
    "## How much do prices spike?\n",
    "\n",
    "To answer thi question we will study the curve of prises per moth in 2016."
   ]
  },
  {
   "cell_type": "markdown",
   "metadata": {},
   "source": [
    "## Preparing the Data"
   ]
  },
  {
   "cell_type": "code",
   "execution_count": 49,
   "metadata": {},
   "outputs": [
    {
     "data": {
      "text/plain": [
       "listing_id    0.000000\n",
       "date          0.000000\n",
       "price         0.329806\n",
       "dtype: float64"
      ]
     },
     "execution_count": 49,
     "metadata": {},
     "output_type": "execute_result"
    }
   ],
   "source": [
    "# Index data by date\n",
    "df_2.index = df_2['date']\n",
    "\n",
    "# Get data for 2016\n",
    "df_2016 = df_2.loc['2016']\n",
    "\n",
    "# Percentage of missing values\n",
    "df_2016.isnull().mean()"
   ]
  },
  {
   "cell_type": "markdown",
   "metadata": {},
   "source": [
    "The variable price contain about 33 % of missing values. Our aim is to calculate the price mean per month, therfore we will Drop the missing values."
   ]
  },
  {
   "cell_type": "markdown",
   "metadata": {},
   "source": [
    "## clean the data"
   ]
  },
  {
   "cell_type": "code",
   "execution_count": 56,
   "metadata": {},
   "outputs": [
    {
     "name": "stderr",
     "output_type": "stream",
     "text": [
      "/home/eddadsi/anaconda3/lib/python3.6/site-packages/ipykernel/__main__.py:6: SettingWithCopyWarning: \n",
      "A value is trying to be set on a copy of a slice from a DataFrame.\n",
      "Try using .loc[row_indexer,col_indexer] = value instead\n",
      "\n",
      "See the caveats in the documentation: http://pandas.pydata.org/pandas-docs/stable/indexing.html#indexing-view-versus-copy\n"
     ]
    },
    {
     "data": {
      "text/html": [
       "<div>\n",
       "<style scoped>\n",
       "    .dataframe tbody tr th:only-of-type {\n",
       "        vertical-align: middle;\n",
       "    }\n",
       "\n",
       "    .dataframe tbody tr th {\n",
       "        vertical-align: top;\n",
       "    }\n",
       "\n",
       "    .dataframe thead th {\n",
       "        text-align: right;\n",
       "    }\n",
       "</style>\n",
       "<table border=\"1\" class=\"dataframe\">\n",
       "  <thead>\n",
       "    <tr style=\"text-align: right;\">\n",
       "      <th></th>\n",
       "      <th>price</th>\n",
       "    </tr>\n",
       "    <tr>\n",
       "      <th>date</th>\n",
       "      <th></th>\n",
       "    </tr>\n",
       "  </thead>\n",
       "  <tbody>\n",
       "    <tr>\n",
       "      <th>2016-01-04</th>\n",
       "      <td>85.0</td>\n",
       "    </tr>\n",
       "    <tr>\n",
       "      <th>2016-01-05</th>\n",
       "      <td>85.0</td>\n",
       "    </tr>\n",
       "    <tr>\n",
       "      <th>2016-01-13</th>\n",
       "      <td>85.0</td>\n",
       "    </tr>\n",
       "    <tr>\n",
       "      <th>2016-01-14</th>\n",
       "      <td>85.0</td>\n",
       "    </tr>\n",
       "    <tr>\n",
       "      <th>2016-01-18</th>\n",
       "      <td>85.0</td>\n",
       "    </tr>\n",
       "  </tbody>\n",
       "</table>\n",
       "</div>"
      ],
      "text/plain": [
       "            price\n",
       "date             \n",
       "2016-01-04   85.0\n",
       "2016-01-05   85.0\n",
       "2016-01-13   85.0\n",
       "2016-01-14   85.0\n",
       "2016-01-18   85.0"
      ]
     },
     "execution_count": 56,
     "metadata": {},
     "output_type": "execute_result"
    }
   ],
   "source": [
    "# Drop missig values\n",
    "df_2016_no_nul = df_2016.dropna()\n",
    "\n",
    "# Preprocess the price variable\n",
    "df_2016_no_nul['price'] = df_2016_no_nul['price'].apply(\n",
    "    lambda x: float(x[1:].replace(',', '')))\n",
    "df_2016_no_nul = df_2016_no_nul[['price']]\n",
    "\n",
    "# Print the first five rows\n",
    "df_2016_no_nul.head()"
   ]
  },
  {
   "cell_type": "code",
   "execution_count": 59,
   "metadata": {},
   "outputs": [
    {
     "name": "stdout",
     "output_type": "stream",
     "text": [
      "Price min :  10.0\n",
      "Price max :  1650.0\n",
      "Price mean :  137.95137504252597\n"
     ]
    }
   ],
   "source": [
    "# The price\n",
    "print(\"Price min : \",  df_2016_no_nul['price'].min())\n",
    "print(\"Price max : \",  df_2016_no_nul['price'].max())\n",
    "print(\"Price mean : \",  df_2016_no_nul['price'].mean())"
   ]
  },
  {
   "cell_type": "code",
   "execution_count": 67,
   "metadata": {},
   "outputs": [
    {
     "data": {
      "text/html": [
       "<div>\n",
       "<style scoped>\n",
       "    .dataframe tbody tr th:only-of-type {\n",
       "        vertical-align: middle;\n",
       "    }\n",
       "\n",
       "    .dataframe tbody tr th {\n",
       "        vertical-align: top;\n",
       "    }\n",
       "\n",
       "    .dataframe thead th {\n",
       "        text-align: right;\n",
       "    }\n",
       "</style>\n",
       "<table border=\"1\" class=\"dataframe\">\n",
       "  <thead>\n",
       "    <tr style=\"text-align: right;\">\n",
       "      <th></th>\n",
       "      <th>price</th>\n",
       "      <th>diff mean</th>\n",
       "    </tr>\n",
       "    <tr>\n",
       "      <th>date</th>\n",
       "      <th></th>\n",
       "      <th></th>\n",
       "    </tr>\n",
       "  </thead>\n",
       "  <tbody>\n",
       "    <tr>\n",
       "      <th>2016-01-31</th>\n",
       "      <td>121.568409</td>\n",
       "      <td>-16.382966</td>\n",
       "    </tr>\n",
       "    <tr>\n",
       "      <th>2016-02-29</th>\n",
       "      <td>124.293927</td>\n",
       "      <td>-13.657448</td>\n",
       "    </tr>\n",
       "    <tr>\n",
       "      <th>2016-03-31</th>\n",
       "      <td>128.644488</td>\n",
       "      <td>-9.306887</td>\n",
       "    </tr>\n",
       "    <tr>\n",
       "      <th>2016-04-30</th>\n",
       "      <td>135.097005</td>\n",
       "      <td>-2.854370</td>\n",
       "    </tr>\n",
       "    <tr>\n",
       "      <th>2016-05-31</th>\n",
       "      <td>139.538183</td>\n",
       "      <td>1.586808</td>\n",
       "    </tr>\n",
       "    <tr>\n",
       "      <th>2016-06-30</th>\n",
       "      <td>147.473137</td>\n",
       "      <td>9.521762</td>\n",
       "    </tr>\n",
       "    <tr>\n",
       "      <th>2016-07-31</th>\n",
       "      <td>152.094150</td>\n",
       "      <td>14.142775</td>\n",
       "    </tr>\n",
       "    <tr>\n",
       "      <th>2016-08-31</th>\n",
       "      <td>150.656594</td>\n",
       "      <td>12.705219</td>\n",
       "    </tr>\n",
       "    <tr>\n",
       "      <th>2016-09-30</th>\n",
       "      <td>143.255949</td>\n",
       "      <td>5.304573</td>\n",
       "    </tr>\n",
       "    <tr>\n",
       "      <th>2016-10-31</th>\n",
       "      <td>137.031939</td>\n",
       "      <td>-0.919436</td>\n",
       "    </tr>\n",
       "    <tr>\n",
       "      <th>2016-11-30</th>\n",
       "      <td>135.688738</td>\n",
       "      <td>-2.262637</td>\n",
       "    </tr>\n",
       "    <tr>\n",
       "      <th>2016-12-31</th>\n",
       "      <td>137.251835</td>\n",
       "      <td>-0.699540</td>\n",
       "    </tr>\n",
       "  </tbody>\n",
       "</table>\n",
       "</div>"
      ],
      "text/plain": [
       "                 price  diff mean\n",
       "date                             \n",
       "2016-01-31  121.568409 -16.382966\n",
       "2016-02-29  124.293927 -13.657448\n",
       "2016-03-31  128.644488  -9.306887\n",
       "2016-04-30  135.097005  -2.854370\n",
       "2016-05-31  139.538183   1.586808\n",
       "2016-06-30  147.473137   9.521762\n",
       "2016-07-31  152.094150  14.142775\n",
       "2016-08-31  150.656594  12.705219\n",
       "2016-09-30  143.255949   5.304573\n",
       "2016-10-31  137.031939  -0.919436\n",
       "2016-11-30  135.688738  -2.262637\n",
       "2016-12-31  137.251835  -0.699540"
      ]
     },
     "execution_count": 67,
     "metadata": {},
     "output_type": "execute_result"
    }
   ],
   "source": [
    "# Resemple data by month\n",
    "df_2016_month = df_2016_no_nul.resample('M').mean()\n",
    "# difference between the price mean per month and the price mean\n",
    "df_2016_month['diff mean'] = df_2016_month['price'] \\\n",
    "    - df_2016_no_nul['price'].mean()\n",
    "\n",
    "# Print data\n",
    "df_2016_month"
   ]
  },
  {
   "cell_type": "code",
   "execution_count": 69,
   "metadata": {},
   "outputs": [
    {
     "data": {
      "image/png": "[encoded data removed]",
      "text/plain": [
       "<Figure size 1080x720 with 1 Axes>"
      ]
     },
     "metadata": {},
     "output_type": "display_data"
    }
   ],
   "source": [
    "# Plot the price difference\n",
    "fig2 = plt.figure(figsize=(15, 10))\n",
    "ax = fig2.add_subplot(1, 1, 1, aspect='auto')\n",
    "sns.barplot(x=df_2016_month.index.month_name(), y=df_2016_month['diff mean'])\n",
    "# Set axis label properties\n",
    "ax.set_xlabel('Month', weight='normal', size=20)\n",
    "ax.set_ylabel('Price difference [$]', weight='normal', size=20)\n",
    "plt.title('Price difference from average in 2016', fontsize=20)\n",
    "# Set tick label properties\n",
    "ax.tick_params('x', labelsize=15, rotation=35)\n",
    "ax.tick_params('y', labelsize=15)\n",
    "plt.show()"
   ]
  },
  {
   "cell_type": "code",
   "execution_count": null,
   "metadata": {},
   "outputs": [],
   "source": []
  }
 ],
 "metadata": {
  "kernelspec": {
   "display_name": "Python [conda env:anaconda3]",
   "language": "python",
   "name": "conda-env-anaconda3-py"
  },
  "language_info": {
   "codemirror_mode": {
    "name": "ipython",
    "version": 3
   },
   "file_extension": ".py",
   "mimetype": "text/x-python",
   "name": "python",
   "nbconvert_exporter": "python",
   "pygments_lexer": "ipython3",
   "version": "3.6.8"
  }
 },
 "nbformat": 4,
 "nbformat_minor": 2
}
